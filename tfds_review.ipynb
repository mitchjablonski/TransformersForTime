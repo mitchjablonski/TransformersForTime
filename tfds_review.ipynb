{
 "cells": [
  {
   "cell_type": "code",
   "execution_count": 2,
   "metadata": {},
   "outputs": [
    {
     "name": "stdout",
     "output_type": "stream",
     "text": [
      "\u001b[1mDownloading and preparing dataset ted_hrlr_translate/pt_to_en/1.0.0 (download: 124.94 MiB, generated: Unknown size, total: 124.94 MiB) to /home/ubuntu/tensorflow_datasets/ted_hrlr_translate/pt_to_en/1.0.0...\u001b[0m\n"
     ]
    },
    {
     "data": {
      "application/vnd.jupyter.widget-view+json": {
       "model_id": "e6a7897af59a4c4da3b1874d1fd8bb2c",
       "version_major": 2,
       "version_minor": 0
      },
      "text/plain": [
       "HBox(children=(FloatProgress(value=1.0, bar_style='info', description='Dl Completed...', layout=Layout(width='…"
      ]
     },
     "metadata": {},
     "output_type": "display_data"
    },
    {
     "data": {
      "application/vnd.jupyter.widget-view+json": {
       "model_id": "c784635c5a704f8da5420967935883d9",
       "version_major": 2,
       "version_minor": 0
      },
      "text/plain": [
       "HBox(children=(FloatProgress(value=1.0, bar_style='info', description='Dl Size...', layout=Layout(width='20px'…"
      ]
     },
     "metadata": {},
     "output_type": "display_data"
    },
    {
     "data": {
      "application/vnd.jupyter.widget-view+json": {
       "model_id": "36bc275b44b044cf83e198fe6f193a6d",
       "version_major": 2,
       "version_minor": 0
      },
      "text/plain": [
       "HBox(children=(FloatProgress(value=1.0, bar_style='info', description='Extraction completed...', layout=Layout…"
      ]
     },
     "metadata": {},
     "output_type": "display_data"
    },
    {
     "name": "stdout",
     "output_type": "stream",
     "text": [
      "\n",
      "\n",
      "\n",
      "\n",
      "\n",
      "\n"
     ]
    },
    {
     "data": {
      "application/vnd.jupyter.widget-view+json": {
       "model_id": "96398d3ad3694bfdb06708b8e365cbc8",
       "version_major": 2,
       "version_minor": 0
      },
      "text/plain": [
       "HBox(children=(FloatProgress(value=1.0, bar_style='info', layout=Layout(width='20px'), max=1.0), HTML(value=''…"
      ]
     },
     "metadata": {},
     "output_type": "display_data"
    },
    {
     "name": "stdout",
     "output_type": "stream",
     "text": [
      "Shuffling and writing examples to /home/ubuntu/tensorflow_datasets/ted_hrlr_translate/pt_to_en/1.0.0.incomplete31I5CX/ted_hrlr_translate-train.tfrecord\n"
     ]
    },
    {
     "data": {
      "application/vnd.jupyter.widget-view+json": {
       "model_id": "3526481a87144e5886f4dd7e8dfe4e2c",
       "version_major": 2,
       "version_minor": 0
      },
      "text/plain": [
       "HBox(children=(FloatProgress(value=0.0, max=51785.0), HTML(value='')))"
      ]
     },
     "metadata": {},
     "output_type": "display_data"
    },
    {
     "data": {
      "application/vnd.jupyter.widget-view+json": {
       "model_id": "29e8608704c44fee9e14ed150ccf24fa",
       "version_major": 2,
       "version_minor": 0
      },
      "text/plain": [
       "HBox(children=(FloatProgress(value=1.0, bar_style='info', layout=Layout(width='20px'), max=1.0), HTML(value=''…"
      ]
     },
     "metadata": {},
     "output_type": "display_data"
    },
    {
     "name": "stdout",
     "output_type": "stream",
     "text": [
      "Shuffling and writing examples to /home/ubuntu/tensorflow_datasets/ted_hrlr_translate/pt_to_en/1.0.0.incomplete31I5CX/ted_hrlr_translate-validation.tfrecord\n"
     ]
    },
    {
     "data": {
      "application/vnd.jupyter.widget-view+json": {
       "model_id": "9e510f45577d4f9ca428c444611eded9",
       "version_major": 2,
       "version_minor": 0
      },
      "text/plain": [
       "HBox(children=(FloatProgress(value=0.0, max=1193.0), HTML(value='')))"
      ]
     },
     "metadata": {},
     "output_type": "display_data"
    },
    {
     "data": {
      "application/vnd.jupyter.widget-view+json": {
       "model_id": "43c7ee6b097e424bb12d5665cdb451ae",
       "version_major": 2,
       "version_minor": 0
      },
      "text/plain": [
       "HBox(children=(FloatProgress(value=1.0, bar_style='info', layout=Layout(width='20px'), max=1.0), HTML(value=''…"
      ]
     },
     "metadata": {},
     "output_type": "display_data"
    },
    {
     "name": "stdout",
     "output_type": "stream",
     "text": [
      "Shuffling and writing examples to /home/ubuntu/tensorflow_datasets/ted_hrlr_translate/pt_to_en/1.0.0.incomplete31I5CX/ted_hrlr_translate-test.tfrecord\n"
     ]
    },
    {
     "data": {
      "application/vnd.jupyter.widget-view+json": {
       "model_id": "0d1aa49a4a26408db8eff32272084cd4",
       "version_major": 2,
       "version_minor": 0
      },
      "text/plain": [
       "HBox(children=(FloatProgress(value=0.0, max=1803.0), HTML(value='')))"
      ]
     },
     "metadata": {},
     "output_type": "display_data"
    },
    {
     "name": "stdout",
     "output_type": "stream",
     "text": [
      "\u001b[1mDataset ted_hrlr_translate downloaded and prepared to /home/ubuntu/tensorflow_datasets/ted_hrlr_translate/pt_to_en/1.0.0. Subsequent calls will reuse this data.\u001b[0m\n"
     ]
    }
   ],
   "source": [
    "import tensorflow_datasets as tfds\n",
    "import tensorflow as tf\n",
    "\n",
    "import time\n",
    "import numpy as np\n",
    "import matplotlib.pyplot as plt\n",
    "examples, metadata = tfds.load('ted_hrlr_translate/pt_to_en', with_info=True,\n",
    "                               as_supervised=True)\n",
    "train_examples, val_examples = examples['train'], examples['validation']"
   ]
  },
  {
   "cell_type": "code",
   "execution_count": 3,
   "metadata": {},
   "outputs": [],
   "source": [
    "tokenizer_en = tfds.deprecated.text.SubwordTextEncoder.build_from_corpus(\n",
    "    (en.numpy() for pt, en in train_examples), target_vocab_size=2**13)\n",
    "\n",
    "tokenizer_pt = tfds.deprecated.text.SubwordTextEncoder.build_from_corpus(\n",
    "    (pt.numpy() for pt, en in train_examples), target_vocab_size=2**13)"
   ]
  },
  {
   "cell_type": "code",
   "execution_count": 4,
   "metadata": {},
   "outputs": [
    {
     "name": "stdout",
     "output_type": "stream",
     "text": [
      "Tokenized string is [7915, 1248, 7946, 7194, 13, 2799, 7877]\n",
      "The original string: Transformer is awesome.\n"
     ]
    }
   ],
   "source": [
    "sample_string = 'Transformer is awesome.'\n",
    "\n",
    "tokenized_string = tokenizer_en.encode(sample_string)\n",
    "print ('Tokenized string is {}'.format(tokenized_string))\n",
    "\n",
    "original_string = tokenizer_en.decode(tokenized_string)\n",
    "print ('The original string: {}'.format(original_string))\n",
    "\n",
    "assert original_string == sample_string"
   ]
  },
  {
   "cell_type": "code",
   "execution_count": 5,
   "metadata": {},
   "outputs": [
    {
     "name": "stdout",
     "output_type": "stream",
     "text": [
      "7915 ----> T\n",
      "1248 ----> ran\n",
      "7946 ----> s\n",
      "7194 ----> former \n",
      "13 ----> is \n",
      "2799 ----> awesome\n",
      "7877 ----> .\n"
     ]
    }
   ],
   "source": [
    "for ts in tokenized_string:\n",
    "  print ('{} ----> {}'.format(ts, tokenizer_en.decode([ts])))"
   ]
  },
  {
   "cell_type": "code",
   "execution_count": 6,
   "metadata": {},
   "outputs": [],
   "source": [
    "BUFFER_SIZE = 20000\n",
    "BATCH_SIZE = 64"
   ]
  },
  {
   "cell_type": "code",
   "execution_count": 7,
   "metadata": {},
   "outputs": [],
   "source": [
    "def encode(lang1, lang2):\n",
    "  lang1 = [tokenizer_pt.vocab_size] + tokenizer_pt.encode(\n",
    "      lang1.numpy()) + [tokenizer_pt.vocab_size+1]\n",
    "\n",
    "  lang2 = [tokenizer_en.vocab_size] + tokenizer_en.encode(\n",
    "      lang2.numpy()) + [tokenizer_en.vocab_size+1]\n",
    "  \n",
    "  return lang1, lang2"
   ]
  },
  {
   "cell_type": "code",
   "execution_count": 8,
   "metadata": {},
   "outputs": [],
   "source": [
    "def tf_encode(pt, en):\n",
    "  result_pt, result_en = tf.py_function(encode, [pt, en], [tf.int64, tf.int64])\n",
    "  result_pt.set_shape([None])\n",
    "  result_en.set_shape([None])\n",
    "\n",
    "  return result_pt, result_en"
   ]
  },
  {
   "cell_type": "code",
   "execution_count": 9,
   "metadata": {},
   "outputs": [],
   "source": [
    "MAX_LENGTH = 40\n"
   ]
  },
  {
   "cell_type": "code",
   "execution_count": 10,
   "metadata": {},
   "outputs": [],
   "source": [
    "def filter_max_length(x, y, max_length=MAX_LENGTH):\n",
    "  return tf.logical_and(tf.size(x) <= max_length,\n",
    "                        tf.size(y) <= max_length)"
   ]
  },
  {
   "cell_type": "code",
   "execution_count": 11,
   "metadata": {},
   "outputs": [],
   "source": [
    "train_dataset = train_examples.map(tf_encode)\n",
    "train_dataset = train_dataset.filter(filter_max_length)\n",
    "# cache the dataset to memory to get a speedup while reading from it.\n",
    "train_dataset = train_dataset.cache()\n",
    "train_dataset = train_dataset.shuffle(BUFFER_SIZE).padded_batch(BATCH_SIZE)\n",
    "train_dataset = train_dataset.prefetch(tf.data.experimental.AUTOTUNE)\n",
    "\n",
    "\n",
    "val_dataset = val_examples.map(tf_encode)\n",
    "val_dataset = val_dataset.filter(filter_max_length).padded_batch(BATCH_SIZE)"
   ]
  },
  {
   "cell_type": "code",
   "execution_count": 12,
   "metadata": {},
   "outputs": [
    {
     "data": {
      "text/plain": [
       "(<tf.Tensor: shape=(64, 38), dtype=int64, numpy=\n",
       " array([[8214,  342, 3032, ...,    0,    0,    0],\n",
       "        [8214,   95,  198, ...,    0,    0,    0],\n",
       "        [8214, 4479, 7990, ...,    0,    0,    0],\n",
       "        ...,\n",
       "        [8214,  584,   12, ...,    0,    0,    0],\n",
       "        [8214,   59, 1548, ...,    0,    0,    0],\n",
       "        [8214,  118,   34, ...,    0,    0,    0]])>,\n",
       " <tf.Tensor: shape=(64, 40), dtype=int64, numpy=\n",
       " array([[8087,   98,   25, ...,    0,    0,    0],\n",
       "        [8087,   12,   20, ...,    0,    0,    0],\n",
       "        [8087,   12, 5453, ...,    0,    0,    0],\n",
       "        ...,\n",
       "        [8087,   18, 2059, ...,    0,    0,    0],\n",
       "        [8087,   16, 1436, ...,    0,    0,    0],\n",
       "        [8087,   15,   57, ...,    0,    0,    0]])>)"
      ]
     },
     "execution_count": 12,
     "metadata": {},
     "output_type": "execute_result"
    }
   ],
   "source": [
    "pt_batch, en_batch = next(iter(val_dataset))\n",
    "pt_batch, en_batch"
   ]
  },
  {
   "cell_type": "code",
   "execution_count": 13,
   "metadata": {},
   "outputs": [],
   "source": [
    "def get_angles(pos, i, d_model):\n",
    "  angle_rates = 1 / np.power(10000, (2 * (i//2)) / np.float32(d_model))\n",
    "  return pos * angle_rates"
   ]
  },
  {
   "cell_type": "code",
   "execution_count": 14,
   "metadata": {},
   "outputs": [],
   "source": [
    "def positional_encoding(position, d_model):\n",
    "  angle_rads = get_angles(np.arange(position)[:, np.newaxis],\n",
    "                          np.arange(d_model)[np.newaxis, :],\n",
    "                          d_model)\n",
    "  \n",
    "  # apply sin to even indices in the array; 2i\n",
    "  angle_rads[:, 0::2] = np.sin(angle_rads[:, 0::2])\n",
    "  \n",
    "  # apply cos to odd indices in the array; 2i+1\n",
    "  angle_rads[:, 1::2] = np.cos(angle_rads[:, 1::2])\n",
    "    \n",
    "  pos_encoding = angle_rads[np.newaxis, ...]\n",
    "    \n",
    "  return tf.cast(pos_encoding, dtype=tf.float32)"
   ]
  },
  {
   "cell_type": "code",
   "execution_count": 15,
   "metadata": {},
   "outputs": [
    {
     "name": "stdout",
     "output_type": "stream",
     "text": [
      "(1, 50, 512)\n"
     ]
    },
    {
     "data": {
      "image/png": "[encoded data removed]",
      "text/plain": [
       "<Figure size 432x288 with 2 Axes>"
      ]
     },
     "metadata": {
      "needs_background": "light"
     },
     "output_type": "display_data"
    }
   ],
   "source": [
    "pos_encoding = positional_encoding(50, 512)\n",
    "print (pos_encoding.shape)\n",
    "\n",
    "plt.pcolormesh(pos_encoding[0], cmap='RdBu')\n",
    "plt.xlabel('Depth')\n",
    "plt.xlim((0, 512))\n",
    "plt.ylabel('Position')\n",
    "plt.colorbar()\n",
    "plt.show()"
   ]
  },
  {
   "cell_type": "code",
   "execution_count": 16,
   "metadata": {},
   "outputs": [],
   "source": [
    "def create_padding_mask(seq):\n",
    "  seq = tf.cast(tf.math.equal(seq, 0), tf.float32)\n",
    "  \n",
    "  # add extra dimensions to add the padding\n",
    "  # to the attention logits.\n",
    "  return seq[:, tf.newaxis, tf.newaxis, :]  # (batch_size, 1, 1, seq_len)"
   ]
  },
  {
   "cell_type": "code",
   "execution_count": 17,
   "metadata": {},
   "outputs": [
    {
     "data": {
      "text/plain": [
       "<tf.Tensor: shape=(3, 1, 1, 5), dtype=float32, numpy=\n",
       "array([[[[0., 0., 1., 1., 0.]]],\n",
       "\n",
       "\n",
       "       [[[0., 0., 0., 1., 1.]]],\n",
       "\n",
       "\n",
       "       [[[1., 1., 1., 0., 0.]]]], dtype=float32)>"
      ]
     },
     "execution_count": 17,
     "metadata": {},
     "output_type": "execute_result"
    }
   ],
   "source": [
    "x = tf.constant([[7, 6, 0, 0, 1], [1, 2, 3, 0, 0], [0, 0, 0, 4, 5]])\n",
    "create_padding_mask(x)"
   ]
  },
  {
   "cell_type": "code",
   "execution_count": 18,
   "metadata": {},
   "outputs": [],
   "source": [
    "def create_look_ahead_mask(size):\n",
    "  mask = 1 - tf.linalg.band_part(tf.ones((size, size)), -1, 0)\n",
    "  return mask  # (seq_len, seq_len)"
   ]
  },
  {
   "cell_type": "code",
   "execution_count": 19,
   "metadata": {},
   "outputs": [
    {
     "data": {
      "text/plain": [
       "<tf.Tensor: shape=(3, 3), dtype=float32, numpy=\n",
       "array([[0., 1., 1.],\n",
       "       [0., 0., 1.],\n",
       "       [0., 0., 0.]], dtype=float32)>"
      ]
     },
     "execution_count": 19,
     "metadata": {},
     "output_type": "execute_result"
    }
   ],
   "source": [
    "x = tf.random.uniform((1, 3))\n",
    "temp = create_look_ahead_mask(x.shape[1])\n",
    "temp"
   ]
  },
  {
   "cell_type": "code",
   "execution_count": 20,
   "metadata": {},
   "outputs": [],
   "source": [
    "def scaled_dot_product_attention(q, k, v, mask):\n",
    "  \"\"\"Calculate the attention weights.\n",
    "  q, k, v must have matching leading dimensions.\n",
    "  k, v must have matching penultimate dimension, i.e.: seq_len_k = seq_len_v.\n",
    "  The mask has different shapes depending on its type(padding or look ahead) \n",
    "  but it must be broadcastable for addition.\n",
    "  \n",
    "  Args:\n",
    "    q: query shape == (..., seq_len_q, depth)\n",
    "    k: key shape == (..., seq_len_k, depth)\n",
    "    v: value shape == (..., seq_len_v, depth_v)\n",
    "    mask: Float tensor with shape broadcastable \n",
    "          to (..., seq_len_q, seq_len_k). Defaults to None.\n",
    "    \n",
    "  Returns:\n",
    "    output, attention_weights\n",
    "  \"\"\"\n",
    "\n",
    "  matmul_qk = tf.matmul(q, k, transpose_b=True)  # (..., seq_len_q, seq_len_k)\n",
    "  \n",
    "  # scale matmul_qk\n",
    "  dk = tf.cast(tf.shape(k)[-1], tf.float32)\n",
    "  scaled_attention_logits = matmul_qk / tf.math.sqrt(dk)\n",
    "\n",
    "  # add the mask to the scaled tensor.\n",
    "  if mask is not None:\n",
    "    scaled_attention_logits += (mask * -1e9)  \n",
    "\n",
    "  # softmax is normalized on the last axis (seq_len_k) so that the scores\n",
    "  # add up to 1.\n",
    "  attention_weights = tf.nn.softmax(scaled_attention_logits, axis=-1)  # (..., seq_len_q, seq_len_k)\n",
    "\n",
    "  output = tf.matmul(attention_weights, v)  # (..., seq_len_q, depth_v)\n",
    "\n",
    "  return output, attention_weights"
   ]
  },
  {
   "cell_type": "code",
   "execution_count": 21,
   "metadata": {},
   "outputs": [],
   "source": [
    "def print_out(q, k, v):\n",
    "  temp_out, temp_attn = scaled_dot_product_attention(\n",
    "      q, k, v, None)\n",
    "  print ('Attention weights are:')\n",
    "  print (temp_attn)\n",
    "  print ('Output is:')\n",
    "  print (temp_out)"
   ]
  },
  {
   "cell_type": "code",
   "execution_count": 22,
   "metadata": {},
   "outputs": [
    {
     "name": "stdout",
     "output_type": "stream",
     "text": [
      "Attention weights are:\n",
      "tf.Tensor([[0. 1. 0. 0.]], shape=(1, 4), dtype=float32)\n",
      "Output is:\n",
      "tf.Tensor([[10.  0.]], shape=(1, 2), dtype=float32)\n"
     ]
    }
   ],
   "source": [
    "np.set_printoptions(suppress=True)\n",
    "\n",
    "temp_k = tf.constant([[10,0,0],\n",
    "                      [0,10,0],\n",
    "                      [0,0,10],\n",
    "                      [0,0,10]], dtype=tf.float32)  # (4, 3)\n",
    "\n",
    "temp_v = tf.constant([[   1,0],\n",
    "                      [  10,0],\n",
    "                      [ 100,5],\n",
    "                      [1000,6]], dtype=tf.float32)  # (4, 2)\n",
    "\n",
    "# This `query` aligns with the second `key`,\n",
    "# so the second `value` is returned.\n",
    "temp_q = tf.constant([[0, 10, 0]], dtype=tf.float32)  # (1, 3)\n",
    "print_out(temp_q, temp_k, temp_v)"
   ]
  },
  {
   "cell_type": "code",
   "execution_count": 23,
   "metadata": {},
   "outputs": [
    {
     "name": "stdout",
     "output_type": "stream",
     "text": [
      "Attention weights are:\n",
      "tf.Tensor([[0.  0.  0.5 0.5]], shape=(1, 4), dtype=float32)\n",
      "Output is:\n",
      "tf.Tensor([[550.    5.5]], shape=(1, 2), dtype=float32)\n"
     ]
    }
   ],
   "source": [
    "# This query aligns with a repeated key (third and fourth), \n",
    "# so all associated values get averaged.\n",
    "temp_q = tf.constant([[0, 0, 10]], dtype=tf.float32)  # (1, 3)\n",
    "print_out(temp_q, temp_k, temp_v)"
   ]
  },
  {
   "cell_type": "code",
   "execution_count": 24,
   "metadata": {},
   "outputs": [
    {
     "name": "stdout",
     "output_type": "stream",
     "text": [
      "Attention weights are:\n",
      "tf.Tensor([[0.5 0.5 0.  0. ]], shape=(1, 4), dtype=float32)\n",
      "Output is:\n",
      "tf.Tensor([[5.5 0. ]], shape=(1, 2), dtype=float32)\n"
     ]
    }
   ],
   "source": [
    "# This query aligns equally with the first and second key, \n",
    "# so their values get averaged.\n",
    "temp_q = tf.constant([[10, 10, 0]], dtype=tf.float32)  # (1, 3)\n",
    "print_out(temp_q, temp_k, temp_v)"
   ]
  },
  {
   "cell_type": "code",
   "execution_count": 25,
   "metadata": {},
   "outputs": [
    {
     "name": "stdout",
     "output_type": "stream",
     "text": [
      "Attention weights are:\n",
      "tf.Tensor(\n",
      "[[0.  0.  0.5 0.5]\n",
      " [0.  1.  0.  0. ]\n",
      " [0.5 0.5 0.  0. ]], shape=(3, 4), dtype=float32)\n",
      "Output is:\n",
      "tf.Tensor(\n",
      "[[550.    5.5]\n",
      " [ 10.    0. ]\n",
      " [  5.5   0. ]], shape=(3, 2), dtype=float32)\n"
     ]
    }
   ],
   "source": [
    "temp_q = tf.constant([[0, 0, 10], [0, 10, 0], [10, 10, 0]], dtype=tf.float32)  # (3, 3)\n",
    "print_out(temp_q, temp_k, temp_v)"
   ]
  },
  {
   "cell_type": "code",
   "execution_count": 26,
   "metadata": {},
   "outputs": [],
   "source": [
    "class MultiHeadAttention(tf.keras.layers.Layer):\n",
    "  def __init__(self, d_model, num_heads):\n",
    "    super(MultiHeadAttention, self).__init__()\n",
    "    self.num_heads = num_heads\n",
    "    self.d_model = d_model\n",
    "    \n",
    "    assert d_model % self.num_heads == 0\n",
    "    \n",
    "    self.depth = d_model // self.num_heads\n",
    "    \n",
    "    self.wq = tf.keras.layers.Dense(d_model)\n",
    "    self.wk = tf.keras.layers.Dense(d_model)\n",
    "    self.wv = tf.keras.layers.Dense(d_model)\n",
    "    \n",
    "    self.dense = tf.keras.layers.Dense(d_model)\n",
    "        \n",
    "  def split_heads(self, x, batch_size):\n",
    "    \"\"\"Split the last dimension into (num_heads, depth).\n",
    "    Transpose the result such that the shape is (batch_size, num_heads, seq_len, depth)\n",
    "    \"\"\"\n",
    "    x = tf.reshape(x, (batch_size, -1, self.num_heads, self.depth))\n",
    "    return tf.transpose(x, perm=[0, 2, 1, 3])\n",
    "    \n",
    "  def call(self, v, k, q, mask):\n",
    "    batch_size = tf.shape(q)[0]\n",
    "    \n",
    "    q = self.wq(q)  # (batch_size, seq_len, d_model)\n",
    "    k = self.wk(k)  # (batch_size, seq_len, d_model)\n",
    "    v = self.wv(v)  # (batch_size, seq_len, d_model)\n",
    "    \n",
    "    q = self.split_heads(q, batch_size)  # (batch_size, num_heads, seq_len_q, depth)\n",
    "    k = self.split_heads(k, batch_size)  # (batch_size, num_heads, seq_len_k, depth)\n",
    "    v = self.split_heads(v, batch_size)  # (batch_size, num_heads, seq_len_v, depth)\n",
    "    \n",
    "    # scaled_attention.shape == (batch_size, num_heads, seq_len_q, depth)\n",
    "    # attention_weights.shape == (batch_size, num_heads, seq_len_q, seq_len_k)\n",
    "    scaled_attention, attention_weights = scaled_dot_product_attention(\n",
    "        q, k, v, mask)\n",
    "    \n",
    "    scaled_attention = tf.transpose(scaled_attention, perm=[0, 2, 1, 3])  # (batch_size, seq_len_q, num_heads, depth)\n",
    "\n",
    "    concat_attention = tf.reshape(scaled_attention, \n",
    "                                  (batch_size, -1, self.d_model))  # (batch_size, seq_len_q, d_model)\n",
    "\n",
    "    output = self.dense(concat_attention)  # (batch_size, seq_len_q, d_model)\n",
    "        \n",
    "    return output, attention_weights"
   ]
  },
  {
   "cell_type": "code",
   "execution_count": 27,
   "metadata": {},
   "outputs": [
    {
     "data": {
      "text/plain": [
       "(TensorShape([1, 60, 512]), TensorShape([1, 8, 60, 60]))"
      ]
     },
     "execution_count": 27,
     "metadata": {},
     "output_type": "execute_result"
    }
   ],
   "source": [
    "temp_mha = MultiHeadAttention(d_model=512, num_heads=8)\n",
    "y = tf.random.uniform((1, 60, 512))  # (batch_size, encoder_sequence, d_model)\n",
    "out, attn = temp_mha(y, k=y, q=y, mask=None)\n",
    "out.shape, attn.shape"
   ]
  },
  {
   "cell_type": "code",
   "execution_count": 28,
   "metadata": {},
   "outputs": [],
   "source": [
    "def point_wise_feed_forward_network(d_model, dff):\n",
    "  return tf.keras.Sequential([\n",
    "      tf.keras.layers.Dense(dff, activation='relu'),  # (batch_size, seq_len, dff)\n",
    "      tf.keras.layers.Dense(d_model)  # (batch_size, seq_len, d_model)\n",
    "  ])"
   ]
  },
  {
   "cell_type": "code",
   "execution_count": 29,
   "metadata": {},
   "outputs": [
    {
     "data": {
      "text/plain": [
       "TensorShape([64, 50, 512])"
      ]
     },
     "execution_count": 29,
     "metadata": {},
     "output_type": "execute_result"
    }
   ],
   "source": [
    "sample_ffn = point_wise_feed_forward_network(512, 2048)\n",
    "sample_ffn(tf.random.uniform((64, 50, 512))).shape"
   ]
  },
  {
   "cell_type": "code",
   "execution_count": 30,
   "metadata": {},
   "outputs": [],
   "source": [
    "class EncoderLayer(tf.keras.layers.Layer):\n",
    "  def __init__(self, d_model, num_heads, dff, rate=0.1):\n",
    "    super(EncoderLayer, self).__init__()\n",
    "\n",
    "    self.mha = MultiHeadAttention(d_model, num_heads)\n",
    "    self.ffn = point_wise_feed_forward_network(d_model, dff)\n",
    "\n",
    "    self.layernorm1 = tf.keras.layers.LayerNormalization(epsilon=1e-6)\n",
    "    self.layernorm2 = tf.keras.layers.LayerNormalization(epsilon=1e-6)\n",
    "    \n",
    "    self.dropout1 = tf.keras.layers.Dropout(rate)\n",
    "    self.dropout2 = tf.keras.layers.Dropout(rate)\n",
    "    \n",
    "  def call(self, x, training, mask):\n",
    "\n",
    "    attn_output, _ = self.mha(x, x, x, mask)  # (batch_size, input_seq_len, d_model)\n",
    "    attn_output = self.dropout1(attn_output, training=training)\n",
    "    out1 = self.layernorm1(x + attn_output)  # (batch_size, input_seq_len, d_model)\n",
    "    \n",
    "    ffn_output = self.ffn(out1)  # (batch_size, input_seq_len, d_model)\n",
    "    ffn_output = self.dropout2(ffn_output, training=training)\n",
    "    out2 = self.layernorm2(out1 + ffn_output)  # (batch_size, input_seq_len, d_model)\n",
    "    \n",
    "    return out2"
   ]
  },
  {
   "cell_type": "code",
   "execution_count": 31,
   "metadata": {},
   "outputs": [
    {
     "data": {
      "text/plain": [
       "TensorShape([64, 43, 512])"
      ]
     },
     "execution_count": 31,
     "metadata": {},
     "output_type": "execute_result"
    }
   ],
   "source": [
    "sample_encoder_layer = EncoderLayer(512, 8, 2048)\n",
    "\n",
    "sample_encoder_layer_output = sample_encoder_layer(\n",
    "    tf.random.uniform((64, 43, 512)), False, None)\n",
    "\n",
    "sample_encoder_layer_output.shape  # (batch_size, input_seq_len, d_model)"
   ]
  },
  {
   "cell_type": "code",
   "execution_count": 32,
   "metadata": {},
   "outputs": [],
   "source": [
    "class DecoderLayer(tf.keras.layers.Layer):\n",
    "  def __init__(self, d_model, num_heads, dff, rate=0.1):\n",
    "    super(DecoderLayer, self).__init__()\n",
    "\n",
    "    self.mha1 = MultiHeadAttention(d_model, num_heads)\n",
    "    self.mha2 = MultiHeadAttention(d_model, num_heads)\n",
    "\n",
    "    self.ffn = point_wise_feed_forward_network(d_model, dff)\n",
    " \n",
    "    self.layernorm1 = tf.keras.layers.LayerNormalization(epsilon=1e-6)\n",
    "    self.layernorm2 = tf.keras.layers.LayerNormalization(epsilon=1e-6)\n",
    "    self.layernorm3 = tf.keras.layers.LayerNormalization(epsilon=1e-6)\n",
    "    \n",
    "    self.dropout1 = tf.keras.layers.Dropout(rate)\n",
    "    self.dropout2 = tf.keras.layers.Dropout(rate)\n",
    "    self.dropout3 = tf.keras.layers.Dropout(rate)\n",
    "    \n",
    "    \n",
    "  def call(self, x, enc_output, training, \n",
    "           look_ahead_mask, padding_mask):\n",
    "    # enc_output.shape == (batch_size, input_seq_len, d_model)\n",
    "\n",
    "    attn1, attn_weights_block1 = self.mha1(x, x, x, look_ahead_mask)  # (batch_size, target_seq_len, d_model)\n",
    "    attn1 = self.dropout1(attn1, training=training)\n",
    "    out1 = self.layernorm1(attn1 + x)\n",
    "    \n",
    "    attn2, attn_weights_block2 = self.mha2(\n",
    "        enc_output, enc_output, out1, padding_mask)  # (batch_size, target_seq_len, d_model)\n",
    "    attn2 = self.dropout2(attn2, training=training)\n",
    "    out2 = self.layernorm2(attn2 + out1)  # (batch_size, target_seq_len, d_model)\n",
    "    \n",
    "    ffn_output = self.ffn(out2)  # (batch_size, target_seq_len, d_model)\n",
    "    ffn_output = self.dropout3(ffn_output, training=training)\n",
    "    out3 = self.layernorm3(ffn_output + out2)  # (batch_size, target_seq_len, d_model)\n",
    "    \n",
    "    return out3, attn_weights_block1, attn_weights_block2"
   ]
  },
  {
   "cell_type": "code",
   "execution_count": 33,
   "metadata": {},
   "outputs": [
    {
     "data": {
      "text/plain": [
       "TensorShape([64, 50, 512])"
      ]
     },
     "execution_count": 33,
     "metadata": {},
     "output_type": "execute_result"
    }
   ],
   "source": [
    "sample_decoder_layer = DecoderLayer(512, 8, 2048)\n",
    "\n",
    "sample_decoder_layer_output, _, _ = sample_decoder_layer(\n",
    "    tf.random.uniform((64, 50, 512)), sample_encoder_layer_output, \n",
    "    False, None, None)\n",
    "\n",
    "sample_decoder_layer_output.shape  # (batch_size, target_seq_len, d_model)"
   ]
  },
  {
   "cell_type": "code",
   "execution_count": 34,
   "metadata": {},
   "outputs": [],
   "source": [
    "class Encoder(tf.keras.layers.Layer):\n",
    "  def __init__(self, num_layers, d_model, num_heads, dff, input_vocab_size,\n",
    "               maximum_position_encoding, rate=0.1):\n",
    "    super(Encoder, self).__init__()\n",
    "\n",
    "    self.d_model = d_model\n",
    "    self.num_layers = num_layers\n",
    "    \n",
    "    self.embedding = tf.keras.layers.Embedding(input_vocab_size, d_model)\n",
    "    self.pos_encoding = positional_encoding(maximum_position_encoding, \n",
    "                                            self.d_model)\n",
    "    \n",
    "    \n",
    "    self.enc_layers = [EncoderLayer(d_model, num_heads, dff, rate) \n",
    "                       for _ in range(num_layers)]\n",
    "  \n",
    "    self.dropout = tf.keras.layers.Dropout(rate)\n",
    "        \n",
    "  def call(self, x, training, mask):\n",
    "\n",
    "    seq_len = tf.shape(x)[1]\n",
    "    \n",
    "    # adding embedding and position encoding.\n",
    "    x = self.embedding(x)  # (batch_size, input_seq_len, d_model)\n",
    "    x *= tf.math.sqrt(tf.cast(self.d_model, tf.float32))\n",
    "    x += self.pos_encoding[:, :seq_len, :]\n",
    "\n",
    "    x = self.dropout(x, training=training)\n",
    "    \n",
    "    for i in range(self.num_layers):\n",
    "      x = self.enc_layers[i](x, training, mask)\n",
    "    \n",
    "    return x  # (batch_size, input_seq_len, d_model)"
   ]
  },
  {
   "cell_type": "code",
   "execution_count": 35,
   "metadata": {},
   "outputs": [
    {
     "name": "stdout",
     "output_type": "stream",
     "text": [
      "(64, 62, 512)\n"
     ]
    }
   ],
   "source": [
    "sample_encoder = Encoder(num_layers=2, d_model=512, num_heads=8, \n",
    "                         dff=2048, input_vocab_size=8500,\n",
    "                         maximum_position_encoding=10000)\n",
    "temp_input = tf.random.uniform((64, 62), dtype=tf.int64, minval=0, maxval=200)\n",
    "\n",
    "sample_encoder_output = sample_encoder(temp_input, training=False, mask=None)\n",
    "\n",
    "print (sample_encoder_output.shape)  # (batch_size, input_seq_len, d_model)"
   ]
  },
  {
   "cell_type": "code",
   "execution_count": 36,
   "metadata": {},
   "outputs": [],
   "source": [
    "class Decoder(tf.keras.layers.Layer):\n",
    "  def __init__(self, num_layers, d_model, num_heads, dff, target_vocab_size,\n",
    "               maximum_position_encoding, rate=0.1):\n",
    "    super(Decoder, self).__init__()\n",
    "\n",
    "    self.d_model = d_model\n",
    "    self.num_layers = num_layers\n",
    "    \n",
    "    self.embedding = tf.keras.layers.Embedding(target_vocab_size, d_model)\n",
    "    self.pos_encoding = positional_encoding(maximum_position_encoding, d_model)\n",
    "    \n",
    "    self.dec_layers = [DecoderLayer(d_model, num_heads, dff, rate) \n",
    "                       for _ in range(num_layers)]\n",
    "    self.dropout = tf.keras.layers.Dropout(rate)\n",
    "    \n",
    "  def call(self, x, enc_output, training, \n",
    "           look_ahead_mask, padding_mask):\n",
    "\n",
    "    seq_len = tf.shape(x)[1]\n",
    "    attention_weights = {}\n",
    "    \n",
    "    x = self.embedding(x)  # (batch_size, target_seq_len, d_model)\n",
    "    x *= tf.math.sqrt(tf.cast(self.d_model, tf.float32))\n",
    "    x += self.pos_encoding[:, :seq_len, :]\n",
    "    \n",
    "    x = self.dropout(x, training=training)\n",
    "\n",
    "    for i in range(self.num_layers):\n",
    "      x, block1, block2 = self.dec_layers[i](x, enc_output, training,\n",
    "                                             look_ahead_mask, padding_mask)\n",
    "      \n",
    "      attention_weights['decoder_layer{}_block1'.format(i+1)] = block1\n",
    "      attention_weights['decoder_layer{}_block2'.format(i+1)] = block2\n",
    "    \n",
    "    # x.shape == (batch_size, target_seq_len, d_model)\n",
    "    return x, attention_weights"
   ]
  },
  {
   "cell_type": "code",
   "execution_count": 37,
   "metadata": {},
   "outputs": [
    {
     "data": {
      "text/plain": [
       "(TensorShape([64, 26, 512]), TensorShape([64, 8, 26, 62]))"
      ]
     },
     "execution_count": 37,
     "metadata": {},
     "output_type": "execute_result"
    }
   ],
   "source": [
    "sample_decoder = Decoder(num_layers=2, d_model=512, num_heads=8, \n",
    "                         dff=2048, target_vocab_size=8000,\n",
    "                         maximum_position_encoding=5000)\n",
    "temp_input = tf.random.uniform((64, 26), dtype=tf.int64, minval=0, maxval=200)\n",
    "\n",
    "output, attn = sample_decoder(temp_input, \n",
    "                              enc_output=sample_encoder_output, \n",
    "                              training=False,\n",
    "                              look_ahead_mask=None, \n",
    "                              padding_mask=None)\n",
    "\n",
    "output.shape, attn['decoder_layer2_block2'].shape"
   ]
  },
  {
   "cell_type": "code",
   "execution_count": 38,
   "metadata": {},
   "outputs": [],
   "source": [
    "class Transformer(tf.keras.Model):\n",
    "  def __init__(self, num_layers, d_model, num_heads, dff, input_vocab_size, \n",
    "               target_vocab_size, pe_input, pe_target, rate=0.1):\n",
    "    super(Transformer, self).__init__()\n",
    "\n",
    "    self.encoder = Encoder(num_layers, d_model, num_heads, dff, \n",
    "                           input_vocab_size, pe_input, rate)\n",
    "\n",
    "    self.decoder = Decoder(num_layers, d_model, num_heads, dff, \n",
    "                           target_vocab_size, pe_target, rate)\n",
    "\n",
    "    self.final_layer = tf.keras.layers.Dense(target_vocab_size)\n",
    "    \n",
    "  def call(self, inp, tar, training, enc_padding_mask, \n",
    "           look_ahead_mask, dec_padding_mask):\n",
    "\n",
    "    enc_output = self.encoder(inp, training, enc_padding_mask)  # (batch_size, inp_seq_len, d_model)\n",
    "    \n",
    "    # dec_output.shape == (batch_size, tar_seq_len, d_model)\n",
    "    dec_output, attention_weights = self.decoder(\n",
    "        tar, enc_output, training, look_ahead_mask, dec_padding_mask)\n",
    "    \n",
    "    final_output = self.final_layer(dec_output)  # (batch_size, tar_seq_len, target_vocab_size)\n",
    "    \n",
    "    return final_output, attention_weights"
   ]
  },
  {
   "cell_type": "code",
   "execution_count": 39,
   "metadata": {},
   "outputs": [
    {
     "data": {
      "text/plain": [
       "TensorShape([64, 36, 8000])"
      ]
     },
     "execution_count": 39,
     "metadata": {},
     "output_type": "execute_result"
    }
   ],
   "source": [
    "sample_transformer = Transformer(\n",
    "    num_layers=2, d_model=512, num_heads=8, dff=2048, \n",
    "    input_vocab_size=8500, target_vocab_size=8000, \n",
    "    pe_input=10000, pe_target=6000)\n",
    "\n",
    "temp_input = tf.random.uniform((64, 38), dtype=tf.int64, minval=0, maxval=200)\n",
    "temp_target = tf.random.uniform((64, 36), dtype=tf.int64, minval=0, maxval=200)\n",
    "\n",
    "fn_out, _ = sample_transformer(temp_input, temp_target, training=False, \n",
    "                               enc_padding_mask=None, \n",
    "                               look_ahead_mask=None,\n",
    "                               dec_padding_mask=None)\n",
    "\n",
    "fn_out.shape  # (batch_size, tar_seq_len, target_vocab_size)"
   ]
  },
  {
   "cell_type": "code",
   "execution_count": 40,
   "metadata": {},
   "outputs": [],
   "source": [
    "num_layers = 4\n",
    "d_model = 128\n",
    "dff = 512\n",
    "num_heads = 8\n",
    "\n",
    "input_vocab_size = tokenizer_pt.vocab_size + 2\n",
    "target_vocab_size = tokenizer_en.vocab_size + 2\n",
    "dropout_rate = 0.1"
   ]
  },
  {
   "cell_type": "code",
   "execution_count": 41,
   "metadata": {},
   "outputs": [],
   "source": [
    "class CustomSchedule(tf.keras.optimizers.schedules.LearningRateSchedule):\n",
    "  def __init__(self, d_model, warmup_steps=4000):\n",
    "    super(CustomSchedule, self).__init__()\n",
    "    \n",
    "    self.d_model = d_model\n",
    "    self.d_model = tf.cast(self.d_model, tf.float32)\n",
    "\n",
    "    self.warmup_steps = warmup_steps\n",
    "    \n",
    "  def __call__(self, step):\n",
    "    arg1 = tf.math.rsqrt(step)\n",
    "    arg2 = step * (self.warmup_steps ** -1.5)\n",
    "    \n",
    "    return tf.math.rsqrt(self.d_model) * tf.math.minimum(arg1, arg2)"
   ]
  },
  {
   "cell_type": "code",
   "execution_count": 42,
   "metadata": {},
   "outputs": [],
   "source": [
    "learning_rate = CustomSchedule(d_model)\n",
    "\n",
    "optimizer = tf.keras.optimizers.Adam(learning_rate, beta_1=0.9, beta_2=0.98, \n",
    "                                     epsilon=1e-9)"
   ]
  },
  {
   "cell_type": "code",
   "execution_count": 43,
   "metadata": {},
   "outputs": [
    {
     "data": {
      "text/plain": [
       "Text(0.5, 0, 'Train Step')"
      ]
     },
     "execution_count": 43,
     "metadata": {},
     "output_type": "execute_result"
    },
    {
     "data": {
      "image/png": "[encoded data removed]",
      "text/plain": [
       "<Figure size 432x288 with 1 Axes>"
      ]
     },
     "metadata": {
      "needs_background": "light"
     },
     "output_type": "display_data"
    }
   ],
   "source": [
    "temp_learning_rate_schedule = CustomSchedule(d_model)\n",
    "\n",
    "plt.plot(temp_learning_rate_schedule(tf.range(40000, dtype=tf.float32)))\n",
    "plt.ylabel(\"Learning Rate\")\n",
    "plt.xlabel(\"Train Step\")"
   ]
  },
  {
   "cell_type": "code",
   "execution_count": 44,
   "metadata": {},
   "outputs": [],
   "source": [
    "loss_object = tf.keras.losses.SparseCategoricalCrossentropy(\n",
    "    from_logits=True, reduction='none')"
   ]
  },
  {
   "cell_type": "code",
   "execution_count": 45,
   "metadata": {},
   "outputs": [],
   "source": [
    "def loss_function(real, pred):\n",
    "  mask = tf.math.logical_not(tf.math.equal(real, 0))\n",
    "  loss_ = loss_object(real, pred)\n",
    "\n",
    "  mask = tf.cast(mask, dtype=loss_.dtype)\n",
    "  loss_ *= mask\n",
    "  \n",
    "  return tf.reduce_sum(loss_)/tf.reduce_sum(mask)"
   ]
  },
  {
   "cell_type": "code",
   "execution_count": 52,
   "metadata": {},
   "outputs": [],
   "source": [
    "train_loss = tf.keras.metrics.Mean(name='train_loss')\n",
    "train_accuracy = tf.keras.metrics.SparseCategoricalAccuracy(\n",
    "    name='train_accuracy')"
   ]
  },
  {
   "cell_type": "code",
   "execution_count": 46,
   "metadata": {},
   "outputs": [],
   "source": [
    "transformer = Transformer(num_layers, d_model, num_heads, dff,\n",
    "                          input_vocab_size, target_vocab_size, \n",
    "                          pe_input=input_vocab_size, \n",
    "                          pe_target=target_vocab_size,\n",
    "                          rate=dropout_rate)"
   ]
  },
  {
   "cell_type": "code",
   "execution_count": 47,
   "metadata": {},
   "outputs": [],
   "source": [
    "def create_masks(inp, tar):\n",
    "  # Encoder padding mask\n",
    "  enc_padding_mask = create_padding_mask(inp)\n",
    "  \n",
    "  # Used in the 2nd attention block in the decoder.\n",
    "  # This padding mask is used to mask the encoder outputs.\n",
    "  dec_padding_mask = create_padding_mask(inp)\n",
    "  \n",
    "  # Used in the 1st attention block in the decoder.\n",
    "  # It is used to pad and mask future tokens in the input received by \n",
    "  # the decoder.\n",
    "  look_ahead_mask = create_look_ahead_mask(tf.shape(tar)[1])\n",
    "  dec_target_padding_mask = create_padding_mask(tar)\n",
    "  combined_mask = tf.maximum(dec_target_padding_mask, look_ahead_mask)\n",
    "  \n",
    "  return enc_padding_mask, combined_mask, dec_padding_mask"
   ]
  },
  {
   "cell_type": "code",
   "execution_count": 48,
   "metadata": {},
   "outputs": [],
   "source": [
    "checkpoint_path = \"./checkpoints/train\"\n",
    "\n",
    "ckpt = tf.train.Checkpoint(transformer=transformer,\n",
    "                           optimizer=optimizer)\n",
    "\n",
    "ckpt_manager = tf.train.CheckpointManager(ckpt, checkpoint_path, max_to_keep=5)\n",
    "\n",
    "# if a checkpoint exists, restore the latest checkpoint.\n",
    "if ckpt_manager.latest_checkpoint:\n",
    "  ckpt.restore(ckpt_manager.latest_checkpoint)\n",
    "  print ('Latest checkpoint restored!!')"
   ]
  },
  {
   "cell_type": "code",
   "execution_count": 49,
   "metadata": {},
   "outputs": [],
   "source": [
    "EPOCHS = 20"
   ]
  },
  {
   "cell_type": "code",
   "execution_count": 50,
   "metadata": {},
   "outputs": [],
   "source": [
    "# The @tf.function trace-compiles train_step into a TF graph for faster\n",
    "# execution. The function specializes to the precise shape of the argument\n",
    "# tensors. To avoid re-tracing due to the variable sequence lengths or variable\n",
    "# batch sizes (the last batch is smaller), use input_signature to specify\n",
    "# more generic shapes.\n",
    "\n",
    "train_step_signature = [\n",
    "    tf.TensorSpec(shape=(None, None), dtype=tf.int64),\n",
    "    tf.TensorSpec(shape=(None, None), dtype=tf.int64),\n",
    "]\n",
    "\n",
    "@tf.function(input_signature=train_step_signature)\n",
    "def train_step(inp, tar):\n",
    "  tar_inp = tar[:, :-1]\n",
    "  tar_real = tar[:, 1:]\n",
    "  \n",
    "  enc_padding_mask, combined_mask, dec_padding_mask = create_masks(inp, tar_inp)\n",
    "  \n",
    "  with tf.GradientTape() as tape:\n",
    "    predictions, _ = transformer(inp, tar_inp, \n",
    "                                 True, \n",
    "                                 enc_padding_mask, \n",
    "                                 combined_mask, \n",
    "                                 dec_padding_mask)\n",
    "    loss = loss_function(tar_real, predictions)\n",
    "\n",
    "  gradients = tape.gradient(loss, transformer.trainable_variables)    \n",
    "  optimizer.apply_gradients(zip(gradients, transformer.trainable_variables))\n",
    "  \n",
    "  train_loss(loss)\n",
    "  train_accuracy(tar_real, predictions)"
   ]
  },
  {
   "cell_type": "code",
   "execution_count": 113,
   "metadata": {},
   "outputs": [
    {
     "data": {
      "text/plain": [
       "<tf.Tensor: shape=(31, 35), dtype=int64, numpy=\n",
       "array([[8214,    6,    3, ...,    0,    0,    0],\n",
       "       [8214,   32,  306, ...,    0,    0,    0],\n",
       "       [8214, 5564, 4305, ...,    0,    0,    0],\n",
       "       ...,\n",
       "       [8214,  610, 8003, ...,    0,    0,    0],\n",
       "       [8214,  372,    2, ...,    0,    0,    0],\n",
       "       [8214,  217,   45, ...,    0,    0,    0]])>"
      ]
     },
     "execution_count": 113,
     "metadata": {},
     "output_type": "execute_result"
    }
   ],
   "source": [
    "inp"
   ]
  },
  {
   "cell_type": "code",
   "execution_count": 112,
   "metadata": {},
   "outputs": [
    {
     "data": {
      "text/plain": [
       "<tf.Tensor: shape=(31, 35), dtype=int64, numpy=\n",
       "array([[8087,    4, 2642, ...,    0,    0,    0],\n",
       "       [8087,   13,   17, ...,    0,    0,    0],\n",
       "       [8087,   30,   15, ...,    0,    0,    0],\n",
       "       ...,\n",
       "       [8087,  229,   81, ...,    0,    0,    0],\n",
       "       [8087,  153,   51, ...,    0,    0,    0],\n",
       "       [8087,   89,   57, ...,    0,    0,    0]])>"
      ]
     },
     "execution_count": 112,
     "metadata": {},
     "output_type": "execute_result"
    }
   ],
   "source": [
    "tar"
   ]
  },
  {
   "cell_type": "code",
   "execution_count": 114,
   "metadata": {},
   "outputs": [
    {
     "data": {
      "text/plain": [
       "<tf.Tensor: shape=(31, 34), dtype=int64, numpy=\n",
       "array([[8087,    4, 2642, ...,    0,    0,    0],\n",
       "       [8087,   13,   17, ...,    0,    0,    0],\n",
       "       [8087,   30,   15, ...,    0,    0,    0],\n",
       "       ...,\n",
       "       [8087,  229,   81, ...,    0,    0,    0],\n",
       "       [8087,  153,   51, ...,    0,    0,    0],\n",
       "       [8087,   89,   57, ...,    0,    0,    0]])>"
      ]
     },
     "execution_count": 114,
     "metadata": {},
     "output_type": "execute_result"
    }
   ],
   "source": [
    "tar[:, :-1]"
   ]
  },
  {
   "cell_type": "code",
   "execution_count": 115,
   "metadata": {},
   "outputs": [
    {
     "data": {
      "text/plain": [
       "<tf.Tensor: shape=(31, 34), dtype=int64, numpy=\n",
       "array([[   4, 2642,   31, ...,    0,    0,    0],\n",
       "       [  13,   17,  770, ...,    0,    0,    0],\n",
       "       [  30,   15,  242, ...,    0,    0,    0],\n",
       "       ...,\n",
       "       [ 229,   81,  184, ...,    0,    0,    0],\n",
       "       [ 153,   51,    2, ...,    0,    0,    0],\n",
       "       [  89,   57,   84, ...,    0,    0,    0]])>"
      ]
     },
     "execution_count": 115,
     "metadata": {},
     "output_type": "execute_result"
    }
   ],
   "source": [
    "tar[:, 1:]"
   ]
  },
  {
   "cell_type": "code",
   "execution_count": 53,
   "metadata": {},
   "outputs": [
    {
     "name": "stdout",
     "output_type": "stream",
     "text": [
      "Epoch 1 Batch 0 Loss 9.0493 Accuracy 0.0000\n",
      "Epoch 1 Batch 50 Loss 8.9897 Accuracy 0.0000\n",
      "Epoch 1 Batch 100 Loss 8.8781 Accuracy 0.0097\n",
      "Epoch 1 Batch 150 Loss 8.7651 Accuracy 0.0157\n",
      "Epoch 1 Batch 200 Loss 8.6348 Accuracy 0.0190\n",
      "Epoch 1 Batch 250 Loss 8.4814 Accuracy 0.0221\n",
      "Epoch 1 Batch 300 Loss 8.3055 Accuracy 0.0259\n",
      "Epoch 1 Batch 350 Loss 8.1196 Accuracy 0.0293\n",
      "Epoch 1 Batch 400 Loss 7.9382 Accuracy 0.0322\n",
      "Epoch 1 Batch 450 Loss 7.7741 Accuracy 0.0349\n",
      "Epoch 1 Batch 500 Loss 7.6262 Accuracy 0.0382\n",
      "Epoch 1 Batch 550 Loss 7.4893 Accuracy 0.0421\n",
      "Epoch 1 Batch 600 Loss 7.3615 Accuracy 0.0458\n",
      "Epoch 1 Batch 650 Loss 7.2382 Accuracy 0.0494\n",
      "Epoch 1 Batch 700 Loss 7.1195 Accuracy 0.0530\n",
      "Epoch 1 Loss 7.1151 Accuracy 0.0531\n",
      "Time taken for 1 epoch: 71.01847529411316 secs\n",
      "\n",
      "Epoch 2 Batch 0 Loss 5.5759 Accuracy 0.0913\n",
      "Epoch 2 Batch 50 Loss 5.4549 Accuracy 0.1042\n",
      "Epoch 2 Batch 100 Loss 5.3968 Accuracy 0.1076\n",
      "Epoch 2 Batch 150 Loss 5.3475 Accuracy 0.1090\n",
      "Epoch 2 Batch 200 Loss 5.3096 Accuracy 0.1113\n",
      "Epoch 2 Batch 250 Loss 5.2626 Accuracy 0.1129\n",
      "Epoch 2 Batch 300 Loss 5.2243 Accuracy 0.1147\n",
      "Epoch 2 Batch 350 Loss 5.1886 Accuracy 0.1163\n",
      "Epoch 2 Batch 400 Loss 5.1573 Accuracy 0.1181\n",
      "Epoch 2 Batch 450 Loss 5.1266 Accuracy 0.1196\n",
      "Epoch 2 Batch 500 Loss 5.0962 Accuracy 0.1210\n",
      "Epoch 2 Batch 550 Loss 5.0656 Accuracy 0.1224\n",
      "Epoch 2 Batch 600 Loss 5.0411 Accuracy 0.1236\n",
      "Epoch 2 Batch 650 Loss 5.0165 Accuracy 0.1248\n",
      "Epoch 2 Batch 700 Loss 4.9929 Accuracy 0.1259\n",
      "Epoch 2 Loss 4.9919 Accuracy 0.1260\n",
      "Time taken for 1 epoch: 34.718337059020996 secs\n",
      "\n",
      "Epoch 3 Batch 0 Loss 4.7427 Accuracy 0.1386\n",
      "Epoch 3 Batch 50 Loss 4.5947 Accuracy 0.1435\n",
      "Epoch 3 Batch 100 Loss 4.5849 Accuracy 0.1443\n",
      "Epoch 3 Batch 150 Loss 4.5770 Accuracy 0.1448\n",
      "Epoch 3 Batch 200 Loss 4.5592 Accuracy 0.1459\n",
      "Epoch 3 Batch 250 Loss 4.5513 Accuracy 0.1461\n",
      "Epoch 3 Batch 300 Loss 4.5355 Accuracy 0.1467\n",
      "Epoch 3 Batch 350 Loss 4.5243 Accuracy 0.1475\n",
      "Epoch 3 Batch 400 Loss 4.5157 Accuracy 0.1481\n",
      "Epoch 3 Batch 450 Loss 4.5062 Accuracy 0.1486\n",
      "Epoch 3 Batch 500 Loss 4.4940 Accuracy 0.1490\n",
      "Epoch 3 Batch 550 Loss 4.4795 Accuracy 0.1497\n",
      "Epoch 3 Batch 600 Loss 4.4633 Accuracy 0.1506\n",
      "Epoch 3 Batch 650 Loss 4.4487 Accuracy 0.1514\n",
      "Epoch 3 Batch 700 Loss 4.4327 Accuracy 0.1523\n",
      "Epoch 3 Loss 4.4319 Accuracy 0.1524\n",
      "Time taken for 1 epoch: 34.72884154319763 secs\n",
      "\n",
      "Epoch 4 Batch 0 Loss 3.9965 Accuracy 0.1624\n",
      "Epoch 4 Batch 50 Loss 4.1102 Accuracy 0.1696\n",
      "Epoch 4 Batch 100 Loss 4.1097 Accuracy 0.1694\n",
      "Epoch 4 Batch 150 Loss 4.1057 Accuracy 0.1693\n",
      "Epoch 4 Batch 200 Loss 4.0917 Accuracy 0.1698\n",
      "Epoch 4 Batch 250 Loss 4.0796 Accuracy 0.1705\n",
      "Epoch 4 Batch 300 Loss 4.0665 Accuracy 0.1720\n",
      "Epoch 4 Batch 350 Loss 4.0486 Accuracy 0.1726\n",
      "Epoch 4 Batch 400 Loss 4.0373 Accuracy 0.1732\n",
      "Epoch 4 Batch 450 Loss 4.0205 Accuracy 0.1744\n",
      "Epoch 4 Batch 500 Loss 4.0023 Accuracy 0.1755\n",
      "Epoch 4 Batch 550 Loss 3.9876 Accuracy 0.1765\n",
      "Epoch 4 Batch 600 Loss 3.9738 Accuracy 0.1770\n",
      "Epoch 4 Batch 650 Loss 3.9594 Accuracy 0.1778\n",
      "Epoch 4 Batch 700 Loss 3.9456 Accuracy 0.1789\n",
      "Epoch 4 Loss 3.9450 Accuracy 0.1789\n",
      "Time taken for 1 epoch: 34.616456270217896 secs\n",
      "\n",
      "Epoch 5 Batch 0 Loss 3.6816 Accuracy 0.1888\n",
      "Epoch 5 Batch 50 Loss 3.6039 Accuracy 0.1971\n",
      "Epoch 5 Batch 100 Loss 3.5844 Accuracy 0.1991\n",
      "Epoch 5 Batch 150 Loss 3.5786 Accuracy 0.1989\n",
      "Epoch 5 Batch 200 Loss 3.5736 Accuracy 0.1995\n",
      "Epoch 5 Batch 250 Loss 3.5645 Accuracy 0.2000\n",
      "Epoch 5 Batch 300 Loss 3.5541 Accuracy 0.2009\n",
      "Epoch 5 Batch 350 Loss 3.5456 Accuracy 0.2016\n",
      "Epoch 5 Batch 400 Loss 3.5389 Accuracy 0.2023\n",
      "Epoch 5 Batch 450 Loss 3.5274 Accuracy 0.2032\n",
      "Epoch 5 Batch 500 Loss 3.5181 Accuracy 0.2037\n",
      "Epoch 5 Batch 550 Loss 3.5078 Accuracy 0.2045\n",
      "Epoch 5 Batch 600 Loss 3.4962 Accuracy 0.2050\n",
      "Epoch 5 Batch 650 Loss 3.4852 Accuracy 0.2053\n",
      "Epoch 5 Batch 700 Loss 3.4735 Accuracy 0.2061\n",
      "Saving checkpoint for epoch 5 at ./checkpoints/train/ckpt-1\n",
      "Epoch 5 Loss 3.4726 Accuracy 0.2061\n",
      "Time taken for 1 epoch: 34.96310043334961 secs\n",
      "\n",
      "Epoch 6 Batch 0 Loss 3.2041 Accuracy 0.1915\n",
      "Epoch 6 Batch 50 Loss 3.1501 Accuracy 0.2225\n",
      "Epoch 6 Batch 100 Loss 3.1445 Accuracy 0.2220\n",
      "Epoch 6 Batch 150 Loss 3.1419 Accuracy 0.2219\n",
      "Epoch 6 Batch 200 Loss 3.1501 Accuracy 0.2213\n",
      "Epoch 6 Batch 250 Loss 3.1439 Accuracy 0.2219\n",
      "Epoch 6 Batch 300 Loss 3.1383 Accuracy 0.2222\n",
      "Epoch 6 Batch 350 Loss 3.1293 Accuracy 0.2228\n",
      "Epoch 6 Batch 400 Loss 3.1202 Accuracy 0.2235\n",
      "Epoch 6 Batch 450 Loss 3.1168 Accuracy 0.2239\n",
      "Epoch 6 Batch 500 Loss 3.1094 Accuracy 0.2243\n",
      "Epoch 6 Batch 550 Loss 3.1002 Accuracy 0.2251\n",
      "Epoch 6 Batch 600 Loss 3.0938 Accuracy 0.2257\n",
      "Epoch 6 Batch 650 Loss 3.0868 Accuracy 0.2263\n",
      "Epoch 6 Batch 700 Loss 3.0822 Accuracy 0.2267\n",
      "Epoch 6 Loss 3.0818 Accuracy 0.2267\n",
      "Time taken for 1 epoch: 35.359960317611694 secs\n",
      "\n",
      "Epoch 7 Batch 0 Loss 2.7553 Accuracy 0.2147\n",
      "Epoch 7 Batch 50 Loss 2.7471 Accuracy 0.2429\n",
      "Epoch 7 Batch 100 Loss 2.7398 Accuracy 0.2437\n",
      "Epoch 7 Batch 150 Loss 2.7463 Accuracy 0.2444\n",
      "Epoch 7 Batch 200 Loss 2.7439 Accuracy 0.2433\n",
      "Epoch 7 Batch 250 Loss 2.7422 Accuracy 0.2431\n",
      "Epoch 7 Batch 300 Loss 2.7353 Accuracy 0.2434\n",
      "Epoch 7 Batch 350 Loss 2.7303 Accuracy 0.2440\n",
      "Epoch 7 Batch 400 Loss 2.7223 Accuracy 0.2449\n",
      "Epoch 7 Batch 450 Loss 2.7129 Accuracy 0.2459\n",
      "Epoch 7 Batch 500 Loss 2.7046 Accuracy 0.2468\n",
      "Epoch 7 Batch 550 Loss 2.6986 Accuracy 0.2473\n",
      "Epoch 7 Batch 600 Loss 2.6971 Accuracy 0.2475\n",
      "Epoch 7 Batch 650 Loss 2.6908 Accuracy 0.2479\n",
      "Epoch 7 Batch 700 Loss 2.6875 Accuracy 0.2481\n",
      "Epoch 7 Loss 2.6878 Accuracy 0.2481\n",
      "Time taken for 1 epoch: 34.74731969833374 secs\n",
      "\n",
      "Epoch 8 Batch 0 Loss 2.1083 Accuracy 0.2508\n",
      "Epoch 8 Batch 50 Loss 2.3664 Accuracy 0.2635\n",
      "Epoch 8 Batch 100 Loss 2.3742 Accuracy 0.2654\n",
      "Epoch 8 Batch 150 Loss 2.3709 Accuracy 0.2651\n",
      "Epoch 8 Batch 200 Loss 2.3733 Accuracy 0.2659\n",
      "Epoch 8 Batch 250 Loss 2.3746 Accuracy 0.2658\n",
      "Epoch 8 Batch 300 Loss 2.3717 Accuracy 0.2659\n",
      "Epoch 8 Batch 350 Loss 2.3717 Accuracy 0.2664\n",
      "Epoch 8 Batch 400 Loss 2.3707 Accuracy 0.2665\n",
      "Epoch 8 Batch 450 Loss 2.3723 Accuracy 0.2661\n",
      "Epoch 8 Batch 500 Loss 2.3733 Accuracy 0.2662\n",
      "Epoch 8 Batch 550 Loss 2.3706 Accuracy 0.2664\n",
      "Epoch 8 Batch 600 Loss 2.3674 Accuracy 0.2670\n",
      "Epoch 8 Batch 650 Loss 2.3642 Accuracy 0.2673\n",
      "Epoch 8 Batch 700 Loss 2.3649 Accuracy 0.2670\n",
      "Epoch 8 Loss 2.3652 Accuracy 0.2670\n",
      "Time taken for 1 epoch: 34.786189794540405 secs\n",
      "\n",
      "Epoch 9 Batch 0 Loss 2.2013 Accuracy 0.2588\n",
      "Epoch 9 Batch 50 Loss 2.1119 Accuracy 0.2813\n",
      "Epoch 9 Batch 100 Loss 2.1165 Accuracy 0.2808\n",
      "Epoch 9 Batch 150 Loss 2.1202 Accuracy 0.2788\n",
      "Epoch 9 Batch 200 Loss 2.1244 Accuracy 0.2791\n",
      "Epoch 9 Batch 250 Loss 2.1297 Accuracy 0.2798\n",
      "Epoch 9 Batch 300 Loss 2.1252 Accuracy 0.2800\n",
      "Epoch 9 Batch 350 Loss 2.1220 Accuracy 0.2802\n",
      "Epoch 9 Batch 400 Loss 2.1249 Accuracy 0.2806\n",
      "Epoch 9 Batch 450 Loss 2.1259 Accuracy 0.2807\n",
      "Epoch 9 Batch 500 Loss 2.1275 Accuracy 0.2806\n",
      "Epoch 9 Batch 550 Loss 2.1306 Accuracy 0.2805\n",
      "Epoch 9 Batch 600 Loss 2.1312 Accuracy 0.2809\n",
      "Epoch 9 Batch 650 Loss 2.1328 Accuracy 0.2808\n",
      "Epoch 9 Batch 700 Loss 2.1337 Accuracy 0.2806\n",
      "Epoch 9 Loss 2.1337 Accuracy 0.2805\n",
      "Time taken for 1 epoch: 35.52944779396057 secs\n",
      "\n",
      "Epoch 10 Batch 0 Loss 1.8848 Accuracy 0.2736\n",
      "Epoch 10 Batch 50 Loss 1.8941 Accuracy 0.3016\n",
      "Epoch 10 Batch 100 Loss 1.9081 Accuracy 0.2966\n",
      "Epoch 10 Batch 150 Loss 1.9153 Accuracy 0.2950\n",
      "Epoch 10 Batch 200 Loss 1.9202 Accuracy 0.2946\n",
      "Epoch 10 Batch 250 Loss 1.9270 Accuracy 0.2949\n",
      "Epoch 10 Batch 300 Loss 1.9303 Accuracy 0.2949\n",
      "Epoch 10 Batch 350 Loss 1.9310 Accuracy 0.2944\n",
      "Epoch 10 Batch 400 Loss 1.9337 Accuracy 0.2932\n",
      "Epoch 10 Batch 450 Loss 1.9372 Accuracy 0.2929\n",
      "Epoch 10 Batch 500 Loss 1.9404 Accuracy 0.2925\n",
      "Epoch 10 Batch 550 Loss 1.9450 Accuracy 0.2925\n",
      "Epoch 10 Batch 600 Loss 1.9480 Accuracy 0.2918\n",
      "Epoch 10 Batch 650 Loss 1.9525 Accuracy 0.2915\n",
      "Epoch 10 Batch 700 Loss 1.9580 Accuracy 0.2912\n",
      "Saving checkpoint for epoch 10 at ./checkpoints/train/ckpt-2\n",
      "Epoch 10 Loss 1.9578 Accuracy 0.2912\n",
      "Time taken for 1 epoch: 35.775901079177856 secs\n",
      "\n",
      "Epoch 11 Batch 0 Loss 1.7863 Accuracy 0.2808\n",
      "Epoch 11 Batch 50 Loss 1.7681 Accuracy 0.3016\n",
      "Epoch 11 Batch 100 Loss 1.7522 Accuracy 0.3030\n",
      "Epoch 11 Batch 150 Loss 1.7697 Accuracy 0.3027\n",
      "Epoch 11 Batch 200 Loss 1.7769 Accuracy 0.3014\n",
      "Epoch 11 Batch 250 Loss 1.7847 Accuracy 0.3011\n",
      "Epoch 11 Batch 300 Loss 1.7902 Accuracy 0.3007\n",
      "Epoch 11 Batch 350 Loss 1.7919 Accuracy 0.3011\n",
      "Epoch 11 Batch 400 Loss 1.7951 Accuracy 0.3001\n",
      "Epoch 11 Batch 450 Loss 1.7987 Accuracy 0.3006\n",
      "Epoch 11 Batch 500 Loss 1.8040 Accuracy 0.3000\n",
      "Epoch 11 Batch 550 Loss 1.8076 Accuracy 0.2997\n",
      "Epoch 11 Batch 600 Loss 1.8100 Accuracy 0.2997\n",
      "Epoch 11 Batch 650 Loss 1.8127 Accuracy 0.2999\n",
      "Epoch 11 Batch 700 Loss 1.8165 Accuracy 0.2999\n",
      "Epoch 11 Loss 1.8171 Accuracy 0.2999\n",
      "Time taken for 1 epoch: 35.56657528877258 secs\n",
      "\n",
      "Epoch 12 Batch 0 Loss 1.6186 Accuracy 0.3063\n",
      "Epoch 12 Batch 50 Loss 1.6341 Accuracy 0.3072\n",
      "Epoch 12 Batch 100 Loss 1.6395 Accuracy 0.3091\n",
      "Epoch 12 Batch 150 Loss 1.6486 Accuracy 0.3105\n",
      "Epoch 12 Batch 200 Loss 1.6536 Accuracy 0.3104\n",
      "Epoch 12 Batch 250 Loss 1.6581 Accuracy 0.3090\n",
      "Epoch 12 Batch 300 Loss 1.6667 Accuracy 0.3083\n",
      "Epoch 12 Batch 350 Loss 1.6683 Accuracy 0.3081\n",
      "Epoch 12 Batch 400 Loss 1.6710 Accuracy 0.3083\n",
      "Epoch 12 Batch 450 Loss 1.6771 Accuracy 0.3075\n",
      "Epoch 12 Batch 500 Loss 1.6821 Accuracy 0.3074\n",
      "Epoch 12 Batch 550 Loss 1.6869 Accuracy 0.3071\n",
      "Epoch 12 Batch 600 Loss 1.6921 Accuracy 0.3069\n",
      "Epoch 12 Batch 650 Loss 1.6969 Accuracy 0.3069\n",
      "Epoch 12 Batch 700 Loss 1.7017 Accuracy 0.3065\n",
      "Epoch 12 Loss 1.7021 Accuracy 0.3065\n",
      "Time taken for 1 epoch: 35.217844009399414 secs\n",
      "\n",
      "Epoch 13 Batch 0 Loss 1.3703 Accuracy 0.3343\n",
      "Epoch 13 Batch 50 Loss 1.5159 Accuracy 0.3185\n",
      "Epoch 13 Batch 100 Loss 1.5282 Accuracy 0.3176\n",
      "Epoch 13 Batch 150 Loss 1.5402 Accuracy 0.3171\n",
      "Epoch 13 Batch 200 Loss 1.5466 Accuracy 0.3172\n",
      "Epoch 13 Batch 250 Loss 1.5586 Accuracy 0.3176\n",
      "Epoch 13 Batch 300 Loss 1.5661 Accuracy 0.3168\n",
      "Epoch 13 Batch 350 Loss 1.5703 Accuracy 0.3157\n",
      "Epoch 13 Batch 400 Loss 1.5744 Accuracy 0.3161\n",
      "Epoch 13 Batch 450 Loss 1.5779 Accuracy 0.3157\n",
      "Epoch 13 Batch 500 Loss 1.5826 Accuracy 0.3153\n",
      "Epoch 13 Batch 550 Loss 1.5853 Accuracy 0.3151\n",
      "Epoch 13 Batch 600 Loss 1.5910 Accuracy 0.3149\n",
      "Epoch 13 Batch 650 Loss 1.5954 Accuracy 0.3147\n",
      "Epoch 13 Batch 700 Loss 1.6013 Accuracy 0.3144\n",
      "Epoch 13 Loss 1.6016 Accuracy 0.3144\n",
      "Time taken for 1 epoch: 34.778443813323975 secs\n",
      "\n",
      "Epoch 14 Batch 0 Loss 1.1805 Accuracy 0.3329\n",
      "Epoch 14 Batch 50 Loss 1.4418 Accuracy 0.3275\n",
      "Epoch 14 Batch 100 Loss 1.4398 Accuracy 0.3236\n",
      "Epoch 14 Batch 150 Loss 1.4518 Accuracy 0.3225\n",
      "Epoch 14 Batch 200 Loss 1.4602 Accuracy 0.3221\n",
      "Epoch 14 Batch 250 Loss 1.4684 Accuracy 0.3208\n",
      "Epoch 14 Batch 300 Loss 1.4767 Accuracy 0.3202\n",
      "Epoch 14 Batch 350 Loss 1.4834 Accuracy 0.3198\n",
      "Epoch 14 Batch 400 Loss 1.4852 Accuracy 0.3198\n",
      "Epoch 14 Batch 450 Loss 1.4914 Accuracy 0.3197\n",
      "Epoch 14 Batch 500 Loss 1.4939 Accuracy 0.3197\n",
      "Epoch 14 Batch 550 Loss 1.5009 Accuracy 0.3196\n",
      "Epoch 14 Batch 600 Loss 1.5068 Accuracy 0.3194\n",
      "Epoch 14 Batch 650 Loss 1.5117 Accuracy 0.3194\n",
      "Epoch 14 Batch 700 Loss 1.5188 Accuracy 0.3190\n",
      "Epoch 14 Loss 1.5185 Accuracy 0.3190\n",
      "Time taken for 1 epoch: 34.7747106552124 secs\n",
      "\n",
      "Epoch 15 Batch 0 Loss 1.3134 Accuracy 0.3281\n",
      "Epoch 15 Batch 50 Loss 1.3502 Accuracy 0.3300\n",
      "Epoch 15 Batch 100 Loss 1.3642 Accuracy 0.3293\n",
      "Epoch 15 Batch 150 Loss 1.3811 Accuracy 0.3296\n",
      "Epoch 15 Batch 200 Loss 1.3841 Accuracy 0.3284\n",
      "Epoch 15 Batch 250 Loss 1.3923 Accuracy 0.3274\n",
      "Epoch 15 Batch 300 Loss 1.3998 Accuracy 0.3277\n",
      "Epoch 15 Batch 350 Loss 1.4070 Accuracy 0.3267\n",
      "Epoch 15 Batch 400 Loss 1.4109 Accuracy 0.3261\n",
      "Epoch 15 Batch 450 Loss 1.4160 Accuracy 0.3260\n",
      "Epoch 15 Batch 500 Loss 1.4206 Accuracy 0.3256\n",
      "Epoch 15 Batch 550 Loss 1.4269 Accuracy 0.3256\n",
      "Epoch 15 Batch 600 Loss 1.4322 Accuracy 0.3255\n",
      "Epoch 15 Batch 650 Loss 1.4379 Accuracy 0.3253\n",
      "Epoch 15 Batch 700 Loss 1.4434 Accuracy 0.3250\n",
      "Saving checkpoint for epoch 15 at ./checkpoints/train/ckpt-3\n",
      "Epoch 15 Loss 1.4440 Accuracy 0.3249\n",
      "Time taken for 1 epoch: 34.99470853805542 secs\n",
      "\n",
      "Epoch 16 Batch 0 Loss 1.3478 Accuracy 0.3572\n",
      "Epoch 16 Batch 50 Loss 1.2888 Accuracy 0.3299\n",
      "Epoch 16 Batch 100 Loss 1.3020 Accuracy 0.3314\n",
      "Epoch 16 Batch 150 Loss 1.3146 Accuracy 0.3302\n",
      "Epoch 16 Batch 200 Loss 1.3193 Accuracy 0.3310\n",
      "Epoch 16 Batch 250 Loss 1.3293 Accuracy 0.3308\n",
      "Epoch 16 Batch 300 Loss 1.3388 Accuracy 0.3306\n",
      "Epoch 16 Batch 350 Loss 1.3438 Accuracy 0.3308\n",
      "Epoch 16 Batch 400 Loss 1.3505 Accuracy 0.3305\n",
      "Epoch 16 Batch 450 Loss 1.3535 Accuracy 0.3305\n",
      "Epoch 16 Batch 500 Loss 1.3585 Accuracy 0.3298\n",
      "Epoch 16 Batch 550 Loss 1.3630 Accuracy 0.3292\n",
      "Epoch 16 Batch 600 Loss 1.3686 Accuracy 0.3288\n",
      "Epoch 16 Batch 650 Loss 1.3724 Accuracy 0.3288\n",
      "Epoch 16 Batch 700 Loss 1.3772 Accuracy 0.3284\n",
      "Epoch 16 Loss 1.3776 Accuracy 0.3284\n",
      "Time taken for 1 epoch: 34.73418736457825 secs\n",
      "\n",
      "Epoch 17 Batch 0 Loss 1.1190 Accuracy 0.3839\n",
      "Epoch 17 Batch 50 Loss 1.2243 Accuracy 0.3387\n",
      "Epoch 17 Batch 100 Loss 1.2239 Accuracy 0.3379\n",
      "Epoch 17 Batch 150 Loss 1.2435 Accuracy 0.3360\n",
      "Epoch 17 Batch 200 Loss 1.2521 Accuracy 0.3360\n",
      "Epoch 17 Batch 250 Loss 1.2645 Accuracy 0.3352\n",
      "Epoch 17 Batch 300 Loss 1.2742 Accuracy 0.3347\n",
      "Epoch 17 Batch 350 Loss 1.2792 Accuracy 0.3346\n",
      "Epoch 17 Batch 400 Loss 1.2817 Accuracy 0.3356\n",
      "Epoch 17 Batch 450 Loss 1.2878 Accuracy 0.3352\n",
      "Epoch 17 Batch 500 Loss 1.2925 Accuracy 0.3351\n",
      "Epoch 17 Batch 550 Loss 1.3000 Accuracy 0.3347\n",
      "Epoch 17 Batch 600 Loss 1.3052 Accuracy 0.3344\n",
      "Epoch 17 Batch 650 Loss 1.3121 Accuracy 0.3337\n",
      "Epoch 17 Batch 700 Loss 1.3179 Accuracy 0.3330\n",
      "Epoch 17 Loss 1.3178 Accuracy 0.3330\n",
      "Time taken for 1 epoch: 34.61791229248047 secs\n",
      "\n",
      "Epoch 18 Batch 0 Loss 1.1525 Accuracy 0.3735\n",
      "Epoch 18 Batch 50 Loss 1.1745 Accuracy 0.3446\n",
      "Epoch 18 Batch 100 Loss 1.1857 Accuracy 0.3411\n",
      "Epoch 18 Batch 150 Loss 1.1941 Accuracy 0.3420\n",
      "Epoch 18 Batch 200 Loss 1.2005 Accuracy 0.3414\n",
      "Epoch 18 Batch 250 Loss 1.2112 Accuracy 0.3408\n",
      "Epoch 18 Batch 300 Loss 1.2181 Accuracy 0.3402\n",
      "Epoch 18 Batch 350 Loss 1.2269 Accuracy 0.3402\n",
      "Epoch 18 Batch 400 Loss 1.2333 Accuracy 0.3400\n",
      "Epoch 18 Batch 450 Loss 1.2375 Accuracy 0.3391\n",
      "Epoch 18 Batch 500 Loss 1.2434 Accuracy 0.3387\n",
      "Epoch 18 Batch 550 Loss 1.2486 Accuracy 0.3384\n",
      "Epoch 18 Batch 600 Loss 1.2551 Accuracy 0.3380\n",
      "Epoch 18 Batch 650 Loss 1.2604 Accuracy 0.3373\n",
      "Epoch 18 Batch 700 Loss 1.2648 Accuracy 0.3370\n",
      "Epoch 18 Loss 1.2648 Accuracy 0.3372\n",
      "Time taken for 1 epoch: 34.542749643325806 secs\n",
      "\n",
      "Epoch 19 Batch 0 Loss 1.2722 Accuracy 0.3053\n",
      "Epoch 19 Batch 50 Loss 1.1373 Accuracy 0.3495\n",
      "Epoch 19 Batch 100 Loss 1.1365 Accuracy 0.3471\n",
      "Epoch 19 Batch 150 Loss 1.1458 Accuracy 0.3472\n",
      "Epoch 19 Batch 200 Loss 1.1556 Accuracy 0.3471\n",
      "Epoch 19 Batch 250 Loss 1.1659 Accuracy 0.3464\n",
      "Epoch 19 Batch 300 Loss 1.1729 Accuracy 0.3447\n",
      "Epoch 19 Batch 350 Loss 1.1805 Accuracy 0.3431\n",
      "Epoch 19 Batch 400 Loss 1.1836 Accuracy 0.3430\n",
      "Epoch 19 Batch 450 Loss 1.1902 Accuracy 0.3426\n",
      "Epoch 19 Batch 500 Loss 1.1953 Accuracy 0.3426\n",
      "Epoch 19 Batch 550 Loss 1.2001 Accuracy 0.3421\n",
      "Epoch 19 Batch 600 Loss 1.2041 Accuracy 0.3418\n",
      "Epoch 19 Batch 650 Loss 1.2101 Accuracy 0.3407\n",
      "Epoch 19 Batch 700 Loss 1.2162 Accuracy 0.3401\n",
      "Epoch 19 Loss 1.2163 Accuracy 0.3402\n",
      "Time taken for 1 epoch: 34.58510065078735 secs\n",
      "\n",
      "Epoch 20 Batch 0 Loss 1.0881 Accuracy 0.3633\n",
      "Epoch 20 Batch 50 Loss 1.0914 Accuracy 0.3473\n",
      "Epoch 20 Batch 100 Loss 1.0924 Accuracy 0.3463\n",
      "Epoch 20 Batch 150 Loss 1.1038 Accuracy 0.3483\n",
      "Epoch 20 Batch 200 Loss 1.1165 Accuracy 0.3484\n",
      "Epoch 20 Batch 250 Loss 1.1258 Accuracy 0.3470\n",
      "Epoch 20 Batch 300 Loss 1.1313 Accuracy 0.3463\n",
      "Epoch 20 Batch 350 Loss 1.1332 Accuracy 0.3464\n",
      "Epoch 20 Batch 400 Loss 1.1381 Accuracy 0.3463\n",
      "Epoch 20 Batch 450 Loss 1.1431 Accuracy 0.3462\n",
      "Epoch 20 Batch 500 Loss 1.1489 Accuracy 0.3457\n",
      "Epoch 20 Batch 550 Loss 1.1552 Accuracy 0.3452\n",
      "Epoch 20 Batch 600 Loss 1.1615 Accuracy 0.3442\n",
      "Epoch 20 Batch 650 Loss 1.1671 Accuracy 0.3439\n",
      "Epoch 20 Batch 700 Loss 1.1716 Accuracy 0.3435\n",
      "Saving checkpoint for epoch 20 at ./checkpoints/train/ckpt-4\n",
      "Epoch 20 Loss 1.1718 Accuracy 0.3435\n",
      "Time taken for 1 epoch: 34.888407945632935 secs\n",
      "\n"
     ]
    }
   ],
   "source": [
    "for epoch in range(EPOCHS):\n",
    "  start = time.time()\n",
    "  \n",
    "  train_loss.reset_states()\n",
    "  train_accuracy.reset_states()\n",
    "  \n",
    "  # inp -> portuguese, tar -> english\n",
    "  for (batch, (inp, tar)) in enumerate(train_dataset):\n",
    "    train_step(inp, tar)\n",
    "    \n",
    "    if batch % 50 == 0:\n",
    "      print ('Epoch {} Batch {} Loss {:.4f} Accuracy {:.4f}'.format(\n",
    "          epoch + 1, batch, train_loss.result(), train_accuracy.result()))\n",
    "      \n",
    "  if (epoch + 1) % 5 == 0:\n",
    "    ckpt_save_path = ckpt_manager.save()\n",
    "    print ('Saving checkpoint for epoch {} at {}'.format(epoch+1,\n",
    "                                                         ckpt_save_path))\n",
    "    \n",
    "  print ('Epoch {} Loss {:.4f} Accuracy {:.4f}'.format(epoch + 1, \n",
    "                                                train_loss.result(), \n",
    "                                                train_accuracy.result()))\n",
    "\n",
    "  print ('Time taken for 1 epoch: {} secs\\n'.format(time.time() - start))"
   ]
  },
  {
   "cell_type": "code",
   "execution_count": 59,
   "metadata": {},
   "outputs": [],
   "source": [
    "def evaluate(inp_sentence):\n",
    "  start_token = [tokenizer_pt.vocab_size]\n",
    "  end_token = [tokenizer_pt.vocab_size + 1]\n",
    "  \n",
    "  # inp sentence is portuguese, hence adding the start and end token\n",
    "  inp_sentence = start_token + tokenizer_pt.encode(inp_sentence) + end_token\n",
    "  encoder_input = tf.expand_dims(inp_sentence, 0)\n",
    "  \n",
    "  # as the target is english, the first word to the transformer should be the\n",
    "  # english start token.\n",
    "  decoder_input = [tokenizer_en.vocab_size]\n",
    "  output = tf.expand_dims(decoder_input, 0)\n",
    "    \n",
    "  for i in range(MAX_LENGTH):\n",
    "    enc_padding_mask, combined_mask, dec_padding_mask = create_masks(\n",
    "        encoder_input, output)\n",
    "  \n",
    "    # predictions.shape == (batch_size, seq_len, vocab_size)\n",
    "    predictions, attention_weights = transformer(encoder_input, \n",
    "                                                 output,\n",
    "                                                 False,\n",
    "                                                 enc_padding_mask,\n",
    "                                                 combined_mask,\n",
    "                                                 dec_padding_mask)\n",
    "    \n",
    "    # select the last word from the seq_len dimension\n",
    "    predictions = predictions[: ,-1:, :]  # (batch_size, 1, vocab_size)\n",
    "\n",
    "    predicted_id = tf.cast(tf.argmax(predictions, axis=-1), tf.int32)\n",
    "    \n",
    "    # return the result if the predicted_id is equal to the end token\n",
    "    if predicted_id == tokenizer_en.vocab_size+1:\n",
    "      return tf.squeeze(output, axis=0), attention_weights\n",
    "    \n",
    "    # concatentate the predicted_id to the output which is given to the decoder\n",
    "    # as its input.\n",
    "    output = tf.concat([output, predicted_id], axis=-1)\n",
    "\n",
    "  return tf.squeeze(output, axis=0), attention_weights"
   ]
  },
  {
   "cell_type": "code",
   "execution_count": 60,
   "metadata": {},
   "outputs": [],
   "source": [
    "def plot_attention_weights(attention, sentence, result, layer):\n",
    "  fig = plt.figure(figsize=(16, 8))\n",
    "  \n",
    "  sentence = tokenizer_pt.encode(sentence)\n",
    "  \n",
    "  attention = tf.squeeze(attention[layer], axis=0)\n",
    "  \n",
    "  for head in range(attention.shape[0]):\n",
    "    ax = fig.add_subplot(2, 4, head+1)\n",
    "    \n",
    "    # plot the attention weights\n",
    "    ax.matshow(attention[head][:-1, :], cmap='viridis')\n",
    "\n",
    "    fontdict = {'fontsize': 10}\n",
    "    \n",
    "    ax.set_xticks(range(len(sentence)+2))\n",
    "    ax.set_yticks(range(len(result)))\n",
    "    \n",
    "    ax.set_ylim(len(result)-1.5, -0.5)\n",
    "        \n",
    "    ax.set_xticklabels(\n",
    "        ['<start>']+[tokenizer_pt.decode([i]) for i in sentence]+['<end>'], \n",
    "        fontdict=fontdict, rotation=90)\n",
    "    \n",
    "    ax.set_yticklabels([tokenizer_en.decode([i]) for i in result \n",
    "                        if i < tokenizer_en.vocab_size], \n",
    "                       fontdict=fontdict)\n",
    "    \n",
    "    ax.set_xlabel('Head {}'.format(head+1))\n",
    "  \n",
    "  plt.tight_layout()\n",
    "  plt.show()"
   ]
  },
  {
   "cell_type": "code",
   "execution_count": 61,
   "metadata": {},
   "outputs": [],
   "source": [
    "def translate(sentence, plot=''):\n",
    "  result, attention_weights = evaluate(sentence)\n",
    "  \n",
    "  predicted_sentence = tokenizer_en.decode([i for i in result \n",
    "                                            if i < tokenizer_en.vocab_size])  \n",
    "\n",
    "  print('Input: {}'.format(sentence))\n",
    "  print('Predicted translation: {}'.format(predicted_sentence))\n",
    "  \n",
    "  if plot:\n",
    "    plot_attention_weights(attention_weights, sentence, result, plot)"
   ]
  },
  {
   "cell_type": "code",
   "execution_count": 62,
   "metadata": {},
   "outputs": [
    {
     "name": "stdout",
     "output_type": "stream",
     "text": [
      "Input: este é um problema que temos que resolver.\n",
      "Predicted translation: this is a problem that we have to solve it .\n",
      "Real translation: this is a problem we have to solve .\n"
     ]
    }
   ],
   "source": [
    "translate(\"este é um problema que temos que resolver.\")\n",
    "print (\"Real translation: this is a problem we have to solve .\")"
   ]
  },
  {
   "cell_type": "code",
   "execution_count": 63,
   "metadata": {},
   "outputs": [
    {
     "name": "stdout",
     "output_type": "stream",
     "text": [
      "Input: este é o primeiro livro que eu fiz.\n",
      "Predicted translation: this is the first book i did it .\n"
     ]
    },
    {
     "data": {
      "image/png": "[encoded data removed]",
      "text/plain": [
       "<Figure size 1152x576 with 8 Axes>"
      ]
     },
     "metadata": {
      "needs_background": "light"
     },
     "output_type": "display_data"
    },
    {
     "name": "stdout",
     "output_type": "stream",
     "text": [
      "Real translation: this is the first book i've ever done.\n"
     ]
    }
   ],
   "source": [
    "translate(\"este é o primeiro livro que eu fiz.\", plot='decoder_layer4_block2')\n",
    "print (\"Real translation: this is the first book i've ever done.\")"
   ]
  },
  {
   "cell_type": "code",
   "execution_count": 64,
   "metadata": {},
   "outputs": [],
   "source": [
    "  for (batch, (inp, tar)) in enumerate(train_dataset):\n",
    "    train_step(inp, tar)"
   ]
  },
  {
   "cell_type": "code",
   "execution_count": 65,
   "metadata": {},
   "outputs": [
    {
     "data": {
      "text/plain": [
       "<tf.Tensor: shape=(31, 35), dtype=int64, numpy=\n",
       "array([[8214,    6,    3, ...,    0,    0,    0],\n",
       "       [8214,   32,  306, ...,    0,    0,    0],\n",
       "       [8214, 5564, 4305, ...,    0,    0,    0],\n",
       "       ...,\n",
       "       [8214,  610, 8003, ...,    0,    0,    0],\n",
       "       [8214,  372,    2, ...,    0,    0,    0],\n",
       "       [8214,  217,   45, ...,    0,    0,    0]])>"
      ]
     },
     "execution_count": 65,
     "metadata": {},
     "output_type": "execute_result"
    }
   ],
   "source": [
    "inp"
   ]
  },
  {
   "cell_type": "code",
   "execution_count": 66,
   "metadata": {},
   "outputs": [
    {
     "data": {
      "text/plain": [
       "<tf.Tensor: shape=(31, 35), dtype=int64, numpy=\n",
       "array([[8087,    4, 2642, ...,    0,    0,    0],\n",
       "       [8087,   13,   17, ...,    0,    0,    0],\n",
       "       [8087,   30,   15, ...,    0,    0,    0],\n",
       "       ...,\n",
       "       [8087,  229,   81, ...,    0,    0,    0],\n",
       "       [8087,  153,   51, ...,    0,    0,    0],\n",
       "       [8087,   89,   57, ...,    0,    0,    0]])>"
      ]
     },
     "execution_count": 66,
     "metadata": {},
     "output_type": "execute_result"
    }
   ],
   "source": [
    "tar"
   ]
  },
  {
   "cell_type": "code",
   "execution_count": 68,
   "metadata": {},
   "outputs": [
    {
     "data": {
      "text/plain": [
       "<tf.Tensor: shape=(31, 34), dtype=int64, numpy=\n",
       "array([[8087,    4, 2642, ...,    0,    0,    0],\n",
       "       [8087,   13,   17, ...,    0,    0,    0],\n",
       "       [8087,   30,   15, ...,    0,    0,    0],\n",
       "       ...,\n",
       "       [8087,  229,   81, ...,    0,    0,    0],\n",
       "       [8087,  153,   51, ...,    0,    0,    0],\n",
       "       [8087,   89,   57, ...,    0,    0,    0]])>"
      ]
     },
     "execution_count": 68,
     "metadata": {},
     "output_type": "execute_result"
    }
   ],
   "source": [
    "tar_inp = tar[:, :-1]\n",
    "tar_inp"
   ]
  },
  {
   "cell_type": "code",
   "execution_count": 69,
   "metadata": {},
   "outputs": [
    {
     "data": {
      "text/plain": [
       "<tf.Tensor: shape=(31, 34), dtype=int64, numpy=\n",
       "array([[   4, 2642,   31, ...,    0,    0,    0],\n",
       "       [  13,   17,  770, ...,    0,    0,    0],\n",
       "       [  30,   15,  242, ...,    0,    0,    0],\n",
       "       ...,\n",
       "       [ 229,   81,  184, ...,    0,    0,    0],\n",
       "       [ 153,   51,    2, ...,    0,    0,    0],\n",
       "       [  89,   57,   84, ...,    0,    0,    0]])>"
      ]
     },
     "execution_count": 69,
     "metadata": {},
     "output_type": "execute_result"
    }
   ],
   "source": [
    "tar_real = tar[:, 1:]\n",
    "tar_real"
   ]
  },
  {
   "cell_type": "code",
   "execution_count": 73,
   "metadata": {},
   "outputs": [],
   "source": [
    "\n",
    "with tf.GradientTape() as tape:\n",
    "    predictions, _ = transformer(inp, tar_inp, \n",
    "                                 True, \n",
    "                                 None, \n",
    "                                 None, \n",
    "                                 None)\n",
    "    loss = loss_function(tar_real, predictions)"
   ]
  },
  {
   "cell_type": "code",
   "execution_count": 76,
   "metadata": {},
   "outputs": [
    {
     "data": {
      "text/plain": [
       "<tf.Tensor: shape=(31, 34), dtype=bool, numpy=\n",
       "array([[ True,  True,  True, ..., False, False, False],\n",
       "       [ True,  True,  True, ..., False, False, False],\n",
       "       [ True,  True,  True, ..., False, False, False],\n",
       "       ...,\n",
       "       [ True,  True,  True, ..., False, False, False],\n",
       "       [ True,  True,  True, ..., False, False, False],\n",
       "       [ True,  True,  True, ..., False, False, False]])>"
      ]
     },
     "execution_count": 76,
     "metadata": {},
     "output_type": "execute_result"
    }
   ],
   "source": [
    "mask = tf.math.logical_not(tf.math.equal(tar_real, 0))\n",
    "mask"
   ]
  },
  {
   "cell_type": "code",
   "execution_count": 78,
   "metadata": {},
   "outputs": [],
   "source": [
    "loss_ = loss_object(tar_real, predictions)"
   ]
  },
  {
   "cell_type": "code",
   "execution_count": null,
   "metadata": {},
   "outputs": [],
   "source": [
    "def loss_function(real, pred):\n",
    "  mask = tf.math.logical_not(tf.math.equal(real, 0))\n",
    "  loss_ = loss_object(real, pred)\n",
    "\n",
    "  mask = tf.cast(mask, dtype=loss_.dtype)\n",
    "  loss_ *= mask\n",
    "  \n",
    "  return tf.reduce_sum(loss_)/tf.reduce_sum(mask)"
   ]
  },
  {
   "cell_type": "code",
   "execution_count": 103,
   "metadata": {},
   "outputs": [],
   "source": [
    "inp_sentence = 'How do I count to the number ten when i can not count?'"
   ]
  },
  {
   "cell_type": "code",
   "execution_count": 108,
   "metadata": {},
   "outputs": [],
   "source": [
    " output = tf.expand_dims(decoder_input, 0)"
   ]
  },
  {
   "cell_type": "code",
   "execution_count": 109,
   "metadata": {},
   "outputs": [
    {
     "data": {
      "text/plain": [
       "<tf.Tensor: shape=(1, 1), dtype=int32, numpy=array([[8087]], dtype=int32)>"
      ]
     },
     "execution_count": 109,
     "metadata": {},
     "output_type": "execute_result"
    }
   ],
   "source": [
    "output"
   ]
  },
  {
   "cell_type": "code",
   "execution_count": 104,
   "metadata": {},
   "outputs": [],
   "source": [
    "  start_token = [tokenizer_pt.vocab_size]\n",
    "  end_token = [tokenizer_pt.vocab_size + 1]\n",
    "  \n",
    "  # inp sentence is portuguese, hence adding the start and end token\n",
    "  inp_sentence = start_token + tokenizer_pt.encode(inp_sentence) + end_token\n",
    "  encoder_input = tf.expand_dims(inp_sentence, 0)\n",
    "  \n",
    "  # as the target is english, the first word to the transformer should be the\n",
    "  # english start token.\n",
    "  decoder_input = [tokenizer_en.vocab_size]\n",
    "  output = tf.expand_dims(decoder_input, 0)\n",
    "    \n",
    "  for i in range(MAX_LENGTH):\n",
    "    enc_padding_mask, combined_mask, dec_padding_mask = create_masks(\n",
    "        encoder_input, output)\n",
    "  \n",
    "    # predictions.shape == (batch_size, seq_len, vocab_size)\n",
    "    predictions, attention_weights = transformer(encoder_input, \n",
    "                                                 output,\n",
    "                                                 False,\n",
    "                                                 enc_padding_mask,\n",
    "                                                 combined_mask,\n",
    "                                                 dec_padding_mask)\n",
    "    \n",
    "    # select the last word from the seq_len dimension\n",
    "    predictions = predictions[: ,-1:, :]  # (batch_size, 1, vocab_size)\n",
    "\n",
    "    predicted_id = tf.cast(tf.argmax(predictions, axis=-1), tf.int32)\n",
    "    \n",
    "    # return the result if the predicted_id is equal to the end token\n",
    "    if predicted_id == tokenizer_en.vocab_size+1:\n",
    "      res= tf.squeeze(output, axis=0), attention_weights\n",
    "    \n",
    "    # concatentate the predicted_id to the output which is given to the decoder\n",
    "    # as its input.\n",
    "    output = tf.concat([output, predicted_id], axis=-1)\n",
    "\n",
    "  res, weights= tf.squeeze(output, axis=0), attention_weights"
   ]
  },
  {
   "cell_type": "code",
   "execution_count": 110,
   "metadata": {},
   "outputs": [
    {
     "data": {
      "text/plain": [
       "TensorShape([1, 28])"
      ]
     },
     "execution_count": 110,
     "metadata": {},
     "output_type": "execute_result"
    }
   ],
   "source": [
    "encoder_input.shape"
   ]
  },
  {
   "cell_type": "code",
   "execution_count": 105,
   "metadata": {},
   "outputs": [],
   "source": [
    "predicted_sentence = tokenizer_en.decode([i for i in res \n",
    "                                            if i < tokenizer_en.vocab_size])  "
   ]
  },
  {
   "cell_type": "code",
   "execution_count": 106,
   "metadata": {},
   "outputs": [
    {
     "data": {
      "text/plain": [
       "'i took the receiving end up to the bercey of the bert one another , and i told the music that i knew ? ? ? ? ? ?'"
      ]
     },
     "execution_count": 106,
     "metadata": {},
     "output_type": "execute_result"
    }
   ],
   "source": [
    "predicted_sentence"
   ]
  },
  {
   "cell_type": "code",
   "execution_count": null,
   "metadata": {},
   "outputs": [],
   "source": []
  }
 ],
 "metadata": {
  "kernelspec": {
   "display_name": "Python 3",
   "language": "python",
   "name": "python3"
  },
  "language_info": {
   "codemirror_mode": {
    "name": "ipython",
    "version": 3
   },
   "file_extension": ".py",
   "mimetype": "text/x-python",
   "name": "python",
   "nbconvert_exporter": "python",
   "pygments_lexer": "ipython3",
   "version": "3.6.12"
  }
 },
 "nbformat": 4,
 "nbformat_minor": 2
}
